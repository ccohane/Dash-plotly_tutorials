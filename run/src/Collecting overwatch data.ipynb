{
 "cells": [
  {
   "cell_type": "code",
   "execution_count": 2,
   "metadata": {},
   "outputs": [],
   "source": [
    "#!usr/lib/bin/activate\n",
    "\n",
    "import pandas as pd\n",
    "import json, jsonify, requests, pprint"
   ]
  },
  {
   "cell_type": "code",
   "execution_count": 3,
   "metadata": {},
   "outputs": [],
   "source": [
    "url = \"https://api.overwatchleague.com/stats/matches/10528/maps/1\""
   ]
  },
  {
   "cell_type": "code",
   "execution_count": 4,
   "metadata": {},
   "outputs": [],
   "source": [
    "response=json.loads(requests.get(url).text)"
   ]
  },
  {
   "cell_type": "code",
   "execution_count": 8,
   "metadata": {},
   "outputs": [
    {
     "name": "stdout",
     "output_type": "stream",
     "text": [
      "{u'stats': [{u'name': u'total_game_time', u'value': 1534370}], u'map_id': u'0x0800000000000756', u'match_id': u'265bd42c-edf8-9541-86d0-1c955718b5cb', u'esports_match_id': 10528, u'game_number': 1, u'teams': [{u'players': [{u'heroes': [{u'stats': [{u'name': u'damage', u'value': 1190, u'id': u'0x08600000000001BF'}, {u'name': u'deaths', u'value': 12, u'id': u'0x086000000000002A'}, {u'name': u'eliminations', u'value': 2, u'id': u'0x086000000000001F'}, {u'name': u'healing', u'value': 21667.755340099335, u'id': u'0x08600000000001C1'}], u'name': u'mercy', u'hero_id': u'0x02E0000000000004'}], u'stats': [{u'name': u'damage', u'value': 1190, u'id': u'0x08600000000001BF'}, {u'name': u'deaths', u'value': 12, u'id': u'0x086000000000002A'}, {u'name': u'eliminations', u'value': 2, u'id': u'0x086000000000001F'}, {u'name': u'healing', u'value': 21667.755340099335, u'id': u'0x08600000000001C1'}], u'esports_player_id': 4643}, {u'heroes': [{u'stats': [{u'name': u'damage', u'value': 27684.829761505127, u'id': u'0x08600000000001BF'}, {u'name': u'deaths', u'value': 12, u'id': u'0x086000000000002A'}, {u'name': u'eliminations', u'value': 56, u'id': u'0x086000000000001F'}], u'name': u'mccree', u'hero_id': u'0x02E0000000000042'}], u'stats': [{u'name': u'damage', u'value': 27684.829761505127, u'id': u'0x08600000000001BF'}, {u'name': u'deaths', u'value': 12, u'id': u'0x086000000000002A'}, {u'name': u'eliminations', u'value': 56, u'id': u'0x086000000000001F'}], u'esports_player_id': 4646}, {u'heroes': [{u'stats': [{u'name': u'damage', u'value': 10857.726301193237, u'id': u'0x08600000000001BF'}, {u'name': u'deaths', u'value': 8, u'id': u'0x086000000000002A'}, {u'name': u'eliminations', u'value': 30, u'id': u'0x086000000000001F'}], u'name': u'orisa', u'hero_id': u'0x02E000000000013E'}, {u'stats': [{u'name': u'damage', u'value': 5364.999969482422, u'id': u'0x08600000000001BF'}, {u'name': u'deaths', u'value': 4, u'id': u'0x086000000000002A'}, {u'name': u'eliminations', u'value': 8, u'id': u'0x086000000000001F'}], u'name': u'reinhardt', u'hero_id': u'0x02E0000000000007'}], u'stats': [{u'name': u'damage', u'value': 16222.72627067566, u'id': u'0x08600000000001BF'}, {u'name': u'deaths', u'value': 12, u'id': u'0x086000000000002A'}, {u'name': u'eliminations', u'value': 38, u'id': u'0x086000000000001F'}], u'esports_player_id': 4641}, {u'heroes': [{u'stats': [{u'name': u'damage', u'value': 7855.622676849365, u'id': u'0x08600000000001BF'}, {u'name': u'deaths', u'value': 2, u'id': u'0x086000000000002A'}, {u'name': u'eliminations', u'value': 22, u'id': u'0x086000000000001F'}], u'name': u'orisa', u'hero_id': u'0x02E000000000013E'}, {u'stats': [{u'name': u'damage', u'value': 16610.392008304596, u'id': u'0x08600000000001BF'}, {u'name': u'deaths', u'value': 6, u'id': u'0x086000000000002A'}, {u'name': u'eliminations', u'value': 40, u'id': u'0x086000000000001F'}, {u'name': u'healing', u'value': 7846.449173927307, u'id': u'0x08600000000001C1'}], u'name': u'roadhog', u'hero_id': u'0x02E0000000000040'}], u'stats': [{u'name': u'damage', u'value': 24466.01468515396, u'id': u'0x08600000000001BF'}, {u'name': u'deaths', u'value': 8, u'id': u'0x086000000000002A'}, {u'name': u'eliminations', u'value': 62, u'id': u'0x086000000000001F'}, {u'name': u'healing', u'value': 7846.449173927307, u'id': u'0x08600000000001C1'}], u'esports_player_id': 4645}, {u'heroes': [{u'stats': [{u'name': u'damage', u'value': 674.9990158081055, u'id': u'0x08600000000001BF'}, {u'name': u'deaths', u'value': 4, u'id': u'0x086000000000002A'}], u'name': u'tracer', u'hero_id': u'0x02E0000000000003'}, {u'stats': [{u'name': u'damage', u'value': 27632.38654732704, u'id': u'0x08600000000001BF'}, {u'name': u'deaths', u'value': 4, u'id': u'0x086000000000002A'}, {u'name': u'eliminations', u'value': 28, u'id': u'0x086000000000001F'}, {u'name': u'healing', u'value': 914.3742339611053, u'id': u'0x08600000000001C1'}], u'name': u'bastion', u'hero_id': u'0x02E0000000000015'}, {u'stats': [{u'name': u'damage', u'value': 22395.477201461792, u'id': u'0x08600000000001BF'}, {u'name': u'deaths', u'value': 10, u'id': u'0x086000000000002A'}, {u'name': u'eliminations', u'value': 28, u'id': u'0x086000000000001F'}], u'name': u'junkrat', u'hero_id': u'0x02E0000000000065'}], u'stats': [{u'name': u'damage', u'value': 50702.86276459694, u'id': u'0x08600000000001BF'}, {u'name': u'deaths', u'value': 18, u'id': u'0x086000000000002A'}, {u'name': u'eliminations', u'value': 56, u'id': u'0x086000000000001F'}, {u'name': u'healing', u'value': 914.3742339611053, u'id': u'0x08600000000001C1'}], u'esports_player_id': 4144}, {u'heroes': [{u'stats': [{u'name': u'damage', u'value': 23923.10214996338, u'id': u'0x08600000000001BF'}, {u'name': u'deaths', u'value': 4, u'id': u'0x086000000000002A'}, {u'name': u'eliminations', u'value': 58, u'id': u'0x086000000000001F'}, {u'name': u'healing', u'value': 18356.794177770615, u'id': u'0x08600000000001C1'}], u'name': u'zenyatta', u'hero_id': u'0x02E0000000000020'}], u'stats': [{u'name': u'damage', u'value': 23923.10214996338, u'id': u'0x08600000000001BF'}, {u'name': u'deaths', u'value': 4, u'id': u'0x086000000000002A'}, {u'name': u'eliminations', u'value': 58, u'id': u'0x086000000000001F'}, {u'name': u'healing', u'value': 18356.794177770615, u'id': u'0x08600000000001C1'}], u'esports_player_id': 4644}], u'stats': [{u'name': u'deaths', u'value': 66, u'id': u'0x086000000000002A'}], u'esports_team_id': 4406}, {u'players': [{u'heroes': [{u'stats': [{u'name': u'damage', u'value': 22857.402686595917, u'id': u'0x08600000000001BF'}, {u'name': u'deaths', u'value': 14, u'id': u'0x086000000000002A'}, {u'name': u'eliminations', u'value': 12, u'id': u'0x086000000000001F'}, {u'name': u'healing', u'value': 7401.411605834961, u'id': u'0x08600000000001C1'}], u'name': u'roadhog', u'hero_id': u'0x02E0000000000040'}, {u'stats': [{u'name': u'damage', u'value': 7364.587142586708, u'id': u'0x08600000000001BF'}, {u'name': u'deaths', u'value': 2, u'id': u'0x086000000000002A'}, {u'name': u'eliminations', u'value': 12, u'id': u'0x086000000000001F'}], u'name': u'dva', u'hero_id': u'0x02E000000000007A'}], u'stats': [{u'name': u'damage', u'value': 30221.989829182625, u'id': u'0x08600000000001BF'}, {u'name': u'deaths', u'value': 16, u'id': u'0x086000000000002A'}, {u'name': u'eliminations', u'value': 24, u'id': u'0x086000000000001F'}, {u'name': u'healing', u'value': 7401.411605834961, u'id': u'0x08600000000001C1'}], u'esports_player_id': 4665}, {u'heroes': [{u'stats': [{u'name': u'damage', u'value': 10965.921138763428, u'id': u'0x08600000000001BF'}, {u'name': u'deaths', u'value': 6, u'id': u'0x086000000000002A'}, {u'name': u'eliminations', u'value': 6, u'id': u'0x086000000000001F'}, {u'name': u'healing', u'value': 383.7000391483307, u'id': u'0x08600000000001C1'}], u'name': u'bastion', u'hero_id': u'0x02E0000000000015'}, {u'stats': [{u'name': u'damage', u'value': 34331.34477996826, u'id': u'0x08600000000001BF'}, {u'name': u'deaths', u'value': 20, u'id': u'0x086000000000002A'}, {u'name': u'eliminations', u'value': 20, u'id': u'0x086000000000001F'}], u'name': u'junkrat', u'hero_id': u'0x02E0000000000065'}, {u'stats': [{u'name': u'damage', u'value': 786, u'id': u'0x08600000000001BF'}], u'name': u'genji', u'hero_id': u'0x02E0000000000029'}], u'stats': [{u'name': u'damage', u'value': 46083.26591873169, u'id': u'0x08600000000001BF'}, {u'name': u'deaths', u'value': 26, u'id': u'0x086000000000002A'}, {u'name': u'eliminations', u'value': 26, u'id': u'0x086000000000001F'}, {u'name': u'healing', u'value': 383.7000391483307, u'id': u'0x08600000000001C1'}], u'esports_player_id': 4662}, {u'heroes': [{u'stats': [{u'name': u'damage', u'value': 385, u'id': u'0x08600000000001BF'}, {u'name': u'healing', u'value': 566.1169502735138, u'id': u'0x08600000000001C1'}], u'name': u'lucio', u'hero_id': u'0x02E0000000000079'}, {u'stats': [{u'name': u'deaths', u'value': 12, u'id': u'0x086000000000002A'}, {u'name': u'healing', u'value': 19924.541379213333, u'id': u'0x08600000000001C1'}], u'name': u'mercy', u'hero_id': u'0x02E0000000000004'}], u'stats': [{u'name': u'damage', u'value': 385, u'id': u'0x08600000000001BF'}, {u'name': u'deaths', u'value': 12, u'id': u'0x086000000000002A'}, {u'name': u'healing', u'value': 20490.658329486847, u'id': u'0x08600000000001C1'}], u'esports_player_id': 4663}, {u'heroes': [{u'stats': [], u'name': u'soldier', u'hero_id': u'0x02E000000000006E'}, {u'stats': [{u'name': u'damage', u'value': 26697.865846157074, u'id': u'0x08600000000001BF'}, {u'name': u'deaths', u'value': 16, u'id': u'0x086000000000002A'}, {u'name': u'eliminations', u'value': 28, u'id': u'0x086000000000001F'}, {u'name': u'healing', u'value': 12274.937490940094, u'id': u'0x08600000000001C1'}], u'name': u'zenyatta', u'hero_id': u'0x02E0000000000020'}], u'stats': [{u'name': u'damage', u'value': 26697.865846157074, u'id': u'0x08600000000001BF'}, {u'name': u'deaths', u'value': 16, u'id': u'0x086000000000002A'}, {u'name': u'eliminations', u'value': 28, u'id': u'0x086000000000001F'}, {u'name': u'healing', u'value': 12274.937490940094, u'id': u'0x08600000000001C1'}], u'esports_player_id': 4664}, {u'heroes': [{u'stats': [{u'name': u'damage', u'value': 672.8227415084839, u'id': u'0x08600000000001BF'}, {u'name': u'deaths', u'value': 2, u'id': u'0x086000000000002A'}], u'name': u'tracer', u'hero_id': u'0x02E0000000000003'}, {u'stats': [{u'name': u'damage', u'value': 8523.83777999878, u'id': u'0x08600000000001BF'}, {u'name': u'deaths', u'value': 4, u'id': u'0x086000000000002A'}, {u'name': u'eliminations', u'value': 6, u'id': u'0x086000000000001F'}, {u'name': u'healing', u'value': 40.839969635009766, u'id': u'0x08600000000001C1'}], u'name': u'bastion', u'hero_id': u'0x02E0000000000015'}, {u'stats': [{u'name': u'damage', u'value': 18506.940532684326, u'id': u'0x08600000000001BF'}, {u'name': u'deaths', u'value': 10, u'id': u'0x086000000000002A'}, {u'name': u'eliminations', u'value': 30, u'id': u'0x086000000000001F'}], u'name': u'widowmaker', u'hero_id': u'0x02E000000000000A'}], u'stats': [{u'name': u'damage', u'value': 27703.60105419159, u'id': u'0x08600000000001BF'}, {u'name': u'deaths', u'value': 16, u'id': u'0x086000000000002A'}, {u'name': u'eliminations', u'value': 36, u'id': u'0x086000000000001F'}, {u'name': u'healing', u'value': 40.839969635009766, u'id': u'0x08600000000001C1'}], u'esports_player_id': 4661}, {u'heroes': [{u'stats': [{u'name': u'damage', u'value': 27073.634762763977, u'id': u'0x08600000000001BF'}, {u'name': u'deaths', u'value': 28, u'id': u'0x086000000000002A'}, {u'name': u'eliminations', u'value': 22, u'id': u'0x086000000000001F'}], u'name': u'orisa', u'hero_id': u'0x02E000000000013E'}, {u'stats': [{u'name': u'damage', u'value': 2032.0566821098328, u'id': u'0x08600000000001BF'}, {u'name': u'deaths', u'value': 2, u'id': u'0x086000000000002A'}, {u'name': u'eliminations', u'value': 2, u'id': u'0x086000000000001F'}], u'name': u'winston', u'hero_id': u'0x02E0000000000009'}], u'stats': [{u'name': u'damage', u'value': 29105.69144487381, u'id': u'0x08600000000001BF'}, {u'name': u'deaths', u'value': 30, u'id': u'0x086000000000002A'}, {u'name': u'eliminations', u'value': 24, u'id': u'0x086000000000001F'}], u'esports_player_id': 4666}], u'stats': [{u'name': u'deaths', u'value': 116, u'id': u'0x086000000000002A'}], u'esports_team_id': 4410}], u'season_id': u'2017', u'map_type': u'PAYLOAD', u'game_id': u'3b21f980-e87a-9942-928f-fcf01ed19217', u'tournament_type': u'owl', u'tournament_id': u'3828', u'esports_tournament_id': 3828}\n"
     ]
    }
   ],
   "source": [
    "print(response)"
   ]
  },
  {
   "cell_type": "code",
   "execution_count": 9,
   "metadata": {},
   "outputs": [
    {
     "ename": "ValueError",
     "evalue": "Invalid file path or buffer object type: <type 'dict'>",
     "output_type": "error",
     "traceback": [
      "\u001b[0;31m---------------------------------------------------------------------------\u001b[0m",
      "\u001b[0;31mValueError\u001b[0m                                Traceback (most recent call last)",
      "\u001b[0;32m<ipython-input-9-e39b27cdcbe2>\u001b[0m in \u001b[0;36m<module>\u001b[0;34m()\u001b[0m\n\u001b[0;32m----> 1\u001b[0;31m \u001b[0mdf\u001b[0m\u001b[0;34m=\u001b[0m \u001b[0mpd\u001b[0m\u001b[0;34m.\u001b[0m\u001b[0mread_json\u001b[0m\u001b[0;34m(\u001b[0m\u001b[0mresponse\u001b[0m\u001b[0;34m,\u001b[0m\u001b[0morient\u001b[0m\u001b[0;34m=\u001b[0m\u001b[0;34m'index'\u001b[0m\u001b[0;34m)\u001b[0m\u001b[0;34m\u001b[0m\u001b[0m\n\u001b[0m",
      "\u001b[0;32m/usr/local/lib/python2.7/site-packages/pandas/io/json/json.pyc\u001b[0m in \u001b[0;36mread_json\u001b[0;34m(path_or_buf, orient, typ, dtype, convert_axes, convert_dates, keep_default_dates, numpy, precise_float, date_unit, encoding, lines, chunksize, compression)\u001b[0m\n\u001b[1;32m    406\u001b[0m     \u001b[0mcompression\u001b[0m \u001b[0;34m=\u001b[0m \u001b[0m_infer_compression\u001b[0m\u001b[0;34m(\u001b[0m\u001b[0mpath_or_buf\u001b[0m\u001b[0;34m,\u001b[0m \u001b[0mcompression\u001b[0m\u001b[0;34m)\u001b[0m\u001b[0;34m\u001b[0m\u001b[0m\n\u001b[1;32m    407\u001b[0m     filepath_or_buffer, _, compression, should_close = get_filepath_or_buffer(\n\u001b[0;32m--> 408\u001b[0;31m         \u001b[0mpath_or_buf\u001b[0m\u001b[0;34m,\u001b[0m \u001b[0mencoding\u001b[0m\u001b[0;34m=\u001b[0m\u001b[0mencoding\u001b[0m\u001b[0;34m,\u001b[0m \u001b[0mcompression\u001b[0m\u001b[0;34m=\u001b[0m\u001b[0mcompression\u001b[0m\u001b[0;34m,\u001b[0m\u001b[0;34m\u001b[0m\u001b[0m\n\u001b[0m\u001b[1;32m    409\u001b[0m     )\n\u001b[1;32m    410\u001b[0m \u001b[0;34m\u001b[0m\u001b[0m\n",
      "\u001b[0;32m/usr/local/lib/python2.7/site-packages/pandas/io/common.pyc\u001b[0m in \u001b[0;36mget_filepath_or_buffer\u001b[0;34m(filepath_or_buffer, encoding, compression, mode)\u001b[0m\n\u001b[1;32m    216\u001b[0m     \u001b[0;32mif\u001b[0m \u001b[0;32mnot\u001b[0m \u001b[0mis_file_like\u001b[0m\u001b[0;34m(\u001b[0m\u001b[0mfilepath_or_buffer\u001b[0m\u001b[0;34m)\u001b[0m\u001b[0;34m:\u001b[0m\u001b[0;34m\u001b[0m\u001b[0m\n\u001b[1;32m    217\u001b[0m         \u001b[0mmsg\u001b[0m \u001b[0;34m=\u001b[0m \u001b[0;34m\"Invalid file path or buffer object type: {_type}\"\u001b[0m\u001b[0;34m\u001b[0m\u001b[0m\n\u001b[0;32m--> 218\u001b[0;31m         \u001b[0;32mraise\u001b[0m \u001b[0mValueError\u001b[0m\u001b[0;34m(\u001b[0m\u001b[0mmsg\u001b[0m\u001b[0;34m.\u001b[0m\u001b[0mformat\u001b[0m\u001b[0;34m(\u001b[0m\u001b[0m_type\u001b[0m\u001b[0;34m=\u001b[0m\u001b[0mtype\u001b[0m\u001b[0;34m(\u001b[0m\u001b[0mfilepath_or_buffer\u001b[0m\u001b[0;34m)\u001b[0m\u001b[0;34m)\u001b[0m\u001b[0;34m)\u001b[0m\u001b[0;34m\u001b[0m\u001b[0m\n\u001b[0m\u001b[1;32m    219\u001b[0m \u001b[0;34m\u001b[0m\u001b[0m\n\u001b[1;32m    220\u001b[0m     \u001b[0;32mreturn\u001b[0m \u001b[0mfilepath_or_buffer\u001b[0m\u001b[0;34m,\u001b[0m \u001b[0mNone\u001b[0m\u001b[0;34m,\u001b[0m \u001b[0mcompression\u001b[0m\u001b[0;34m,\u001b[0m \u001b[0mFalse\u001b[0m\u001b[0;34m\u001b[0m\u001b[0m\n",
      "\u001b[0;31mValueError\u001b[0m: Invalid file path or buffer object type: <type 'dict'>"
     ]
    }
   ],
   "source": [
    "df= pd.read_json(response,orient='index')"
   ]
  }
 ],
 "metadata": {
  "kernelspec": {
   "display_name": "Python 2",
   "language": "python",
   "name": "python2"
  },
  "language_info": {
   "codemirror_mode": {
    "name": "ipython",
    "version": 2
   },
   "file_extension": ".py",
   "mimetype": "text/x-python",
   "name": "python",
   "nbconvert_exporter": "python",
   "pygments_lexer": "ipython2",
   "version": "2.7.15"
  }
 },
 "nbformat": 4,
 "nbformat_minor": 2
}
